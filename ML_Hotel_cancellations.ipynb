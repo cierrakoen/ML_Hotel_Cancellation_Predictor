{
  "nbformat": 4,
  "nbformat_minor": 0,
  "metadata": {
    "colab": {
      "provenance": [],
      "authorship_tag": "ABX9TyMpe9GY/Fq4A6a046LrGkUS",
      "include_colab_link": true
    },
    "kernelspec": {
      "name": "python3",
      "display_name": "Python 3"
    },
    "language_info": {
      "name": "python"
    }
  },
  "cells": [
    {
      "cell_type": "markdown",
      "metadata": {
        "id": "view-in-github",
        "colab_type": "text"
      },
      "source": [
        "<a href=\"https://colab.research.google.com/github/cierrakoen/ML_Hotel_Cancellation_Predictor/blob/main/ML_Hotel_cancellations.ipynb\" target=\"_parent\"><img src=\"https://colab.research.google.com/assets/colab-badge.svg\" alt=\"Open In Colab\"/></a>"
      ]
    },
    {
      "cell_type": "markdown",
      "source": [
        "## Creating Imports"
      ],
      "metadata": {
        "id": "0fYClP4J01a_"
      }
    },
    {
      "cell_type": "code",
      "execution_count": null,
      "metadata": {
        "id": "lpzPjNzN0Vet"
      },
      "outputs": [],
      "source": [
        "import seaborn as sb\n",
        "import sklearn\n",
        "import pandas as pd\n",
        "import numpy as np\n",
        "import matplotlib\n",
        "import json\n",
        "import csv\n",
        "import os"
      ]
    },
    {
      "cell_type": "markdown",
      "source": [
        "### Report must include different ML models with 3 different sampling evaluations (50-50, 70-30, and 80-20)\n",
        "\n",
        "\n",
        "1. Decision Tree/Random Forest - Ike\n",
        "2. Perceptron - Cierra \n",
        "3. Naive Bayes - Omari\n",
        "4. Logistic Regression - Ike\n",
        "5. Linear Regression - Cierra \n",
        "6. SVM - Linear Kernel - Omari \n",
        "7. SVM - RBF kernel - Ike\n",
        "8. Gradient Boosting - Cierra \n",
        "9. Multi-layer Perceptron (MLP) - Omari\n",
        "\n"
      ],
      "metadata": {
        "id": "OmcvcNGn1eb_"
      }
    },
    {
      "cell_type": "markdown",
      "source": [
        "Information on how to get the data set: https://www.analyticsvidhya.com/blog/2021/06/how-to-load-kaggle-datasets-directly-into-google-colab/\n",
        "\n",
        "\n",
        "\n",
        "*   FYI: all downloads will be found under content \n",
        "*   Don't forget to remove your API key (kaggle.json)\n",
        "\n"
      ],
      "metadata": {
        "id": "yFYSX8oz59JF"
      }
    },
    {
      "cell_type": "code",
      "source": [
        "! pip install kaggle\n",
        "! mkdir ~/.kaggle\n",
        "! cp kaggle.json ~/.kaggle/\n",
        "! chmod 600 ~/.kaggle/kaggle.json\n",
        "! kaggle datasets download jessemostipak/hotel-booking-demand\n",
        "! kaggle datasets download jessemostipak/hotel-booking-demand"
      ],
      "metadata": {
        "id": "3-HX_BS_4VkK"
      },
      "execution_count": null,
      "outputs": []
    },
    {
      "cell_type": "code",
      "source": [
        "! unzip hotel-booking-demand.zip"
      ],
      "metadata": {
        "colab": {
          "base_uri": "https://localhost:8080/"
        },
        "id": "j0Wy-L205gBl",
        "outputId": "3a9c5cac-9338-4a10-dce4-4cd80de7fa7c"
      },
      "execution_count": null,
      "outputs": [
        {
          "output_type": "stream",
          "name": "stdout",
          "text": [
            "Archive:  hotel-booking-demand.zip\n",
            "  inflating: hotel_bookings.csv      \n"
          ]
        }
      ]
    },
    {
      "cell_type": "markdown",
      "source": [
        "#Creating a way to read the csv"
      ],
      "metadata": {
        "id": "KLpHDwhtvrR1"
      }
    },
    {
      "cell_type": "markdown",
      "source": [
        "# Creating X and y values\n",
        " "
      ],
      "metadata": {
        "id": "t6kfNxiUu6Pe"
      }
    },
    {
      "cell_type": "code",
      "source": [],
      "metadata": {
        "id": "_cskUucWu_fM"
      },
      "execution_count": null,
      "outputs": []
    }
  ]
}